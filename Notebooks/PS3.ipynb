{
 "cells": [
  {
   "cell_type": "markdown",
   "metadata": {},
   "source": [
    "# Problem Set 3 CS174\n",
    "---\n",
    "The following problem set will focus on the lessons on Bag of Words and TFIDF. Answer the following guide questions with your groups by writing functions or code in cells that accomplish the requirements.\n",
    "\n",
    "1. Take your favorite Spotify or Apple Music playlist, and use their APIs to programmatically extract the first 20 song titles. Build a dictionary that has the song index as the key, and the title as the value. Please make sure that the playlist is **NOT** an instrumental playlist. **3 pts.**"
   ]
  },
  {
   "cell_type": "code",
   "execution_count": 1,
   "metadata": {
    "scrolled": true,
    "tags": []
   },
   "outputs": [
    {
     "name": "stdout",
     "output_type": "stream",
     "text": [
      "Requirement already satisfied: spotipy in /Users/TL/.pyenv/versions/3.8.6/lib/python3.8/site-packages (2.16.1)\n",
      "Requirement already satisfied: sklearn in /Users/TL/.pyenv/versions/3.8.6/lib/python3.8/site-packages (0.0)\n",
      "Requirement already satisfied: pandas in /Users/TL/.pyenv/versions/3.8.6/lib/python3.8/site-packages (1.2.2)\n",
      "Requirement already satisfied: numpy in /Users/TL/.pyenv/versions/3.8.6/lib/python3.8/site-packages (1.20.1)\n",
      "Requirement already satisfied: python-dateutil>=2.7.3 in /Users/TL/.pyenv/versions/3.8.6/lib/python3.8/site-packages (from pandas) (2.8.1)\n",
      "Requirement already satisfied: pytz>=2017.3 in /Users/TL/.pyenv/versions/3.8.6/lib/python3.8/site-packages (from pandas) (2021.1)\n",
      "Requirement already satisfied: six>=1.5 in /Users/TL/.pyenv/versions/3.8.6/lib/python3.8/site-packages (from python-dateutil>=2.7.3->pandas) (1.15.0)\n",
      "Requirement already satisfied: scikit-learn in /Users/TL/.pyenv/versions/3.8.6/lib/python3.8/site-packages (from sklearn) (0.24.1)\n",
      "Requirement already satisfied: requests>=2.20.0 in /Users/TL/.pyenv/versions/3.8.6/lib/python3.8/site-packages (from spotipy) (2.25.1)\n",
      "Requirement already satisfied: urllib3<1.27,>=1.21.1 in /Users/TL/.pyenv/versions/3.8.6/lib/python3.8/site-packages (from requests>=2.20.0->spotipy) (1.26.3)\n",
      "Requirement already satisfied: certifi>=2017.4.17 in /Users/TL/.pyenv/versions/3.8.6/lib/python3.8/site-packages (from requests>=2.20.0->spotipy) (2020.12.5)\n",
      "Requirement already satisfied: chardet<5,>=3.0.2 in /Users/TL/.pyenv/versions/3.8.6/lib/python3.8/site-packages (from requests>=2.20.0->spotipy) (4.0.0)\n",
      "Requirement already satisfied: idna<3,>=2.5 in /Users/TL/.pyenv/versions/3.8.6/lib/python3.8/site-packages (from requests>=2.20.0->spotipy) (2.10)\n",
      "Requirement already satisfied: threadpoolctl>=2.0.0 in /Users/TL/.pyenv/versions/3.8.6/lib/python3.8/site-packages (from scikit-learn->sklearn) (2.1.0)\n",
      "Requirement already satisfied: joblib>=0.11 in /Users/TL/.pyenv/versions/3.8.6/lib/python3.8/site-packages (from scikit-learn->sklearn) (1.0.1)\n",
      "Requirement already satisfied: scipy>=0.19.1 in /Users/TL/.pyenv/versions/3.8.6/lib/python3.8/site-packages (from scikit-learn->sklearn) (1.6.1)\n"
     ]
    }
   ],
   "source": [
    "!pip install spotipy sklearn pandas numpy"
   ]
  },
  {
   "cell_type": "code",
   "execution_count": 2,
   "metadata": {},
   "outputs": [],
   "source": [
    "import nltk\n",
    "from nltk.corpus import stopwords\n",
    "from nltk.stem.wordnet import WordNetLemmatizer\n",
    "import pandas as pd\n",
    "import re\n",
    "import numpy as np"
   ]
  },
  {
   "cell_type": "code",
   "execution_count": 3,
   "metadata": {},
   "outputs": [],
   "source": [
    "# https://github.com/plamere/spotipy\n",
    "    \n",
    "import spotipy\n",
    "from spotipy.oauth2 import SpotifyClientCredentials\n",
    "\n",
    "sp = spotipy.Spotify(auth_manager=SpotifyClientCredentials(client_id=\"9fdc5e181b5c4c48b221b82739b05353\",\n",
    "                                                           client_secret=\"7c0a5ef5bd544aef8cb2c59b3cb9b117\"))"
   ]
  },
  {
   "cell_type": "code",
   "execution_count": 4,
   "metadata": {},
   "outputs": [],
   "source": [
    "PLAYLIST_ID = \"37i9dQZF1DX1rVvRgjX59F\"\n",
    "my_playlist = sp.playlist(PLAYLIST_ID, fields=['tracks'])"
   ]
  },
  {
   "cell_type": "code",
   "execution_count": 5,
   "metadata": {
    "tags": []
   },
   "outputs": [
    {
     "data": {
      "text/plain": [
       "['Smells Like Teen Spirit',\n",
       " 'Zombie',\n",
       " 'Under the Bridge',\n",
       " 'Killing In The Name',\n",
       " 'Wonderwall',\n",
       " 'Enter Sandman',\n",
       " 'Come As You Are',\n",
       " 'Bitter Sweet Symphony',\n",
       " 'Black Hole Sun',\n",
       " 'Song 2',\n",
       " 'Losing My Religion',\n",
       " '1979',\n",
       " 'Plush',\n",
       " 'All The Small Things',\n",
       " 'Creep',\n",
       " 'Loser',\n",
       " \"Don't Speak\",\n",
       " 'When I Come Around',\n",
       " 'Self Esteem',\n",
       " 'High And Dry']"
      ]
     },
     "execution_count": 5,
     "metadata": {},
     "output_type": "execute_result"
    }
   ],
   "source": [
    "track_list = [item['track']['name'] for item in my_playlist['tracks']['items']]\n",
    "# Remove \"remaster\" indicator -- it might mess up genius lyrics search.\n",
    "track_list = [re.sub(\"\\s*-[\\s\\d]*(R|r)emaster(ed)?[\\s\\-]*\\d*\",  '', track) for track in track_list]\n",
    "first_20_tracks = track_list[:20]\n",
    "first_20_tracks"
   ]
  },
  {
   "cell_type": "markdown",
   "metadata": {},
   "source": [
    "2. Use the Genius API to programmatically download the lyrics of these songs and store them in a dictionary \n",
    "with the index as the key, and the lyrics as the value. **3 pts.**"
   ]
  },
  {
   "cell_type": "code",
   "execution_count": 7,
   "metadata": {},
   "outputs": [
    {
     "name": "stdout",
     "output_type": "stream",
     "text": [
      "Searching for \"Smells Like Teen Spirit\"...\n",
      "Done.\n",
      "Searching for \"Zombie\"...\n",
      "Done.\n",
      "Searching for \"Under the Bridge\"...\n",
      "Done.\n",
      "Searching for \"Killing In The Name\"...\n",
      "Done.\n",
      "Searching for \"Wonderwall\"...\n",
      "Done.\n",
      "Searching for \"Enter Sandman\"...\n",
      "Done.\n",
      "Searching for \"Come As You Are\"...\n",
      "Done.\n",
      "Searching for \"Bitter Sweet Symphony\"...\n",
      "Done.\n",
      "Searching for \"Black Hole Sun\"...\n",
      "Done.\n",
      "Searching for \"Song 2\"...\n",
      "Done.\n",
      "Searching for \"Losing My Religion\"...\n",
      "Done.\n",
      "Searching for \"1979\"...\n",
      "Done.\n",
      "Searching for \"Plush\"...\n",
      "Done.\n",
      "Searching for \"All The Small Things\"...\n",
      "Done.\n",
      "Searching for \"Creep\"...\n",
      "Done.\n",
      "Searching for \"Loser\"...\n",
      "Done.\n",
      "Searching for \"Don't Speak\"...\n",
      "Done.\n",
      "Searching for \"When I Come Around\"...\n",
      "Done.\n",
      "Searching for \"Self Esteem\"...\n",
      "Done.\n",
      "Searching for \"High And Dry\"...\n",
      "Done.\n"
     ]
    }
   ],
   "source": [
    "# https://github.com/johnwmillr/LyricsGenius\n",
    "\n",
    "import lyricsgenius as lg\n",
    "\n",
    "genius = lg.Genius()\n",
    "\n",
    "song_lyrics = {}\n",
    "for track in first_20_tracks:\n",
    "    lyrics = genius.search_song(track).lyrics\n",
    "    song_lyrics[track] = lyrics"
   ]
  },
  {
   "cell_type": "markdown",
   "metadata": {},
   "source": [
    "3. Build a 20x20 matrix containing the cosine similarities of the songs to each other. Use Bag of Words to determine these similarities. **4 pts.**"
   ]
  },
  {
   "cell_type": "markdown",
   "metadata": {},
   "source": [
    "**Preprocessing Pipeline:**"
   ]
  },
  {
   "cell_type": "code",
   "execution_count": 8,
   "metadata": {},
   "outputs": [],
   "source": [
    "# Modified from: \n",
    "# Aman Kedia_ Mayank Rasu - Hands-On Python Natural Language Processing\n",
    "\n",
    "def clean_text(corpus, keep_list=[]):\n",
    "    \"\"\"Replace non-alphanumeric characters with space.\"\"\"\n",
    "    cleaned_corpus = []\n",
    "    for row in corpus:\n",
    "        cleaned_text = []\n",
    "        for word in row.split():\n",
    "            if word not in keep_list:\n",
    "                p1 = re.sub('[^a-zA-Z0-9]', ' ', word)\n",
    "                p1 = p1.lower()\n",
    "                cleaned_text.append(p1)\n",
    "            else:\n",
    "                cleaned_text.append(word)\n",
    "        cleaned_corpus.append(' '.join(cleaned_text))\n",
    "    return cleaned_corpus\n",
    "\n",
    "\n",
    "def remove_stopwords(corpus):\n",
    "    \"\"\"Remove all stopwords except wh_words.\"\"\"\n",
    "    wh_words = ['who', 'what', 'when', 'why', 'how', 'which', 'where', 'whom']\n",
    "    stop = set(stopwords.words('english'))\n",
    "    for word in wh_words:\n",
    "        stop.remove(word)\n",
    "    corpus = [[word for word in text.split() if word not in stop] for text in corpus]\n",
    "    return [w for w in corpus if w]\n",
    "\n",
    "\n",
    "def lemmatize(corpus):\n",
    "    \"\"\"Lemmatize with WordNetLemmatizer.\"\"\"\n",
    "    lem = WordNetLemmatizer()\n",
    "    corpus = [[lem.lemmatize(word, pos='v') for word in text] for text in corpus]\n",
    "    return corpus\n",
    "\n",
    "def preprocess(corpus):\n",
    "    corpus = clean_text(corpus)\n",
    "    corpus = remove_stopwords(corpus)\n",
    "    corpus = lemmatize(corpus)\n",
    "    corpus = [' '.join(sentence) for sentence in corpus]\n",
    "    return corpus"
   ]
  },
  {
   "cell_type": "code",
   "execution_count": 9,
   "metadata": {},
   "outputs": [
    {
     "data": {
      "text/plain": [
       "Smells Like Teen Spirit    [Verse 1]\\nLoad up on guns, bring your friends...\n",
       "Zombie                     [Verse 1]\\nAnother head hangs lowly\\nChild is ...\n",
       "Under the Bridge           [Verse 1]\\nSometimes I feel like I don't have ...\n",
       "Killing In The Name        [Intro]\\nKilling in the name of\\n\\n[Verse]\\nSo...\n",
       "Wonderwall                 [Verse 1]\\nToday is gonna be the day that they...\n",
       "Enter Sandman              [Instrumental Intro]\\n\\n[Verse 1]\\nSay your pr...\n",
       "Come As You Are            [Verse 1]\\nCome as you are, as you were\\nAs I ...\n",
       "Bitter Sweet Symphony      [Verse 1]\\n'Cause it's a bitter sweet symphony...\n",
       "Black Hole Sun             [Verse 1]\\nIn my eyes, indisposed\\nIn disguise...\n",
       "Song 2                     [Intro]\\nWoohoo!\\nWoohoo!\\nWoohoo!\\nWoohoo!\\n\\...\n",
       "Losing My Religion         [Intro]\\n\\n[Verse 1]\\nOh, life is bigger\\nIt's...\n",
       "1979                       [Verse 1]\\nShakedown 1979\\nCool kids never hav...\n",
       "Plush                      [Verse 1]\\nAnd I feel that time's a wasted go\\...\n",
       "All The Small Things       [Verse 1]\\nAll the small things\\nTrue care, tr...\n",
       "Creep                      [Verse 1]\\nWhen you were here before\\nCouldn't...\n",
       "Loser                      [Produced by Hit-Boy]\\n\\n[Intro]\\nUh, Martin h...\n",
       "Don't Speak                [Verse 1]\\nYou and me, we used to be together\\...\n",
       "When I Come Around         Let me take you on a date, date\\nWe ain't gott...\n",
       "Self Esteem                [Intro]\\nLa, la, la, la, la\\nLa, la, la, la, l...\n",
       "High And Dry               [Verse 1]\\nTwo jumps in a week, I bet you\\nThi...\n",
       "dtype: object"
      ]
     },
     "execution_count": 9,
     "metadata": {},
     "output_type": "execute_result"
    }
   ],
   "source": [
    "song_titles, lyrics = zip(*song_lyrics.items())\n",
    "corpus = pd.Series(lyrics, index=song_titles)\n",
    "corpus"
   ]
  },
  {
   "cell_type": "markdown",
   "metadata": {},
   "source": [
    "**Create a bag-of-words matrix with CountVectorizer:**"
   ]
  },
  {
   "cell_type": "code",
   "execution_count": 10,
   "metadata": {},
   "outputs": [
    {
     "data": {
      "text/plain": [
       "array([[ 0,  0,  0, ...,  0,  0,  0],\n",
       "       [ 0,  0,  1, ...,  0,  0, 12],\n",
       "       [ 0,  0,  0, ...,  0,  0,  0],\n",
       "       ...,\n",
       "       [ 1,  1,  0, ...,  0,  0,  0],\n",
       "       [ 0,  0,  0, ...,  0,  0,  0],\n",
       "       [ 0,  0,  0, ...,  0,  0,  0]])"
      ]
     },
     "execution_count": 10,
     "metadata": {},
     "output_type": "execute_result"
    }
   ],
   "source": [
    "from sklearn.feature_extraction.text import CountVectorizer\n",
    "\n",
    "preprocessed_corpus = preprocess(corpus)\n",
    "\n",
    "bow_vectorizer = CountVectorizer()\n",
    "bow_matrix = bow_vectorizer.fit_transform(preprocessed_corpus)\n",
    "bow_matrix = bow_matrix.toarray()\n",
    "bow_matrix"
   ]
  },
  {
   "cell_type": "code",
   "execution_count": 11,
   "metadata": {},
   "outputs": [
    {
     "data": {
      "text/plain": [
       "(20, 713)"
      ]
     },
     "execution_count": 11,
     "metadata": {},
     "output_type": "execute_result"
    }
   ],
   "source": [
    "bow_matrix.shape"
   ]
  },
  {
   "cell_type": "markdown",
   "metadata": {},
   "source": [
    "**Create the cosine similarities matrix:**"
   ]
  },
  {
   "cell_type": "code",
   "execution_count": 12,
   "metadata": {},
   "outputs": [],
   "source": [
    "def cosine(v1, v2):\n",
    "    \"Find cosine similarity of two vectors.\"\n",
    "    return (v1 @ v2) / (np.linalg.norm(v1) * np.linalg.norm(v2))"
   ]
  },
  {
   "cell_type": "code",
   "execution_count": 13,
   "metadata": {},
   "outputs": [],
   "source": [
    "bow_cosine = np.zeros(shape=(20, 20))\n",
    "for row_idx, v1 in enumerate(bow_matrix):\n",
    "    for col_idx, v2 in enumerate(bow_matrix):\n",
    "        bow_cosine[row_idx][col_idx] = cosine(v1, v2)"
   ]
  },
  {
   "cell_type": "code",
   "execution_count": 14,
   "metadata": {},
   "outputs": [
    {
     "data": {
      "text/plain": [
       "array([[1.        , 0.06338704, 0.12048121, 0.03029174, 0.10592057,\n",
       "        0.07394509, 0.04055649, 0.03838673, 0.02135851, 0.08606218,\n",
       "        0.08490351, 0.08886316, 0.09790952, 0.01377351, 0.05569793,\n",
       "        0.05594039, 0.05668458, 0.0141718 , 0.1326674 , 0.04167322],\n",
       "       [0.06338704, 1.        , 0.09345429, 0.05170613, 0.05348569,\n",
       "        0.07512964, 0.06250705, 0.04844178, 0.02673831, 0.12231254,\n",
       "        0.11805106, 0.06560045, 0.03991225, 0.01840734, 0.08719695,\n",
       "        0.04253847, 0.09155533, 0.02813887, 0.141213  , 0.05012403],\n",
       "       [0.12048121, 0.09345429, 1.        , 0.02404171, 0.1925517 ,\n",
       "        0.26187118, 0.06903743, 0.23836001, 0.03305573, 0.37458504,\n",
       "        0.12843706, 0.16639439, 0.13980309, 0.01688671, 0.11174272,\n",
       "        0.114617  , 0.10348716, 0.11878197, 0.63030687, 0.10534351],\n",
       "       [0.03029174, 0.05170613, 0.02404171, 1.        , 0.0717959 ,\n",
       "        0.03143574, 0.01983725, 0.0156269 , 0.02012628, 0.0208281 ,\n",
       "        0.05210345, 0.06844857, 0.08342027, 0.00415663, 0.13447025,\n",
       "        0.10714138, 0.3145159 , 0.20333281, 0.03389225, 0.02587133],\n",
       "       [0.10592057, 0.05348569, 0.1925517 , 0.0717959 , 1.        ,\n",
       "        0.19603787, 0.03468227, 0.09767312, 0.03767143, 0.07938842,\n",
       "        0.20065022, 0.18575867, 0.09663809, 0.03123419, 0.07796679,\n",
       "        0.11396049, 0.10426316, 0.08887378, 0.1230615 , 0.06720168],\n",
       "       [0.07394509, 0.07512964, 0.26187118, 0.03143574, 0.19603787,\n",
       "        1.        , 0.05895176, 0.1226295 , 0.04688103, 0.2055363 ,\n",
       "        0.15360171, 0.24421006, 0.03947498, 0.0286756 , 0.05566064,\n",
       "        0.14719124, 0.05416834, 0.05074828, 0.21030716, 0.07652328],\n",
       "       [0.04055649, 0.06250705, 0.06903743, 0.01983725, 0.03468227,\n",
       "        0.05895176, 1.        , 0.03461686, 0.0655646 , 0.03343379,\n",
       "        0.04026281, 0.0565776 , 0.03869209, 0.00833088, 0.05673902,\n",
       "        0.04910496, 0.03248106, 0.06135595, 0.02960082, 0.02865521],\n",
       "       [0.03838673, 0.04844178, 0.23836001, 0.0156269 , 0.09767312,\n",
       "        0.1226295 , 0.03461686, 1.        , 0.01835257, 0.097581  ,\n",
       "        0.07902883, 0.13905627, 0.05547343, 0.01055213, 0.0308685 ,\n",
       "        0.06984378, 0.08814768, 0.05174527, 0.11436522, 0.11371301],\n",
       "       [0.02135851, 0.02673831, 0.03305573, 0.02012628, 0.03767143,\n",
       "        0.04688103, 0.0655646 , 0.01835257, 1.        , 0.02282678,\n",
       "        0.05553389, 0.04096923, 0.03362147, 0.01047767, 0.02531198,\n",
       "        0.02836183, 0.0211683 , 0.18593124, 0.02714132, 0.02593743],\n",
       "       [0.08606218, 0.12231254, 0.37458504, 0.0208281 , 0.07938842,\n",
       "        0.2055363 , 0.03343379, 0.097581  , 0.02282678, 1.        ,\n",
       "        0.0663721 , 0.13878062, 0.16165113, 0.00988792, 0.07155247,\n",
       "        0.12142219, 0.07517591, 0.09638383, 0.42798616, 0.05101628],\n",
       "       [0.08490351, 0.11805106, 0.12843706, 0.05210345, 0.20065022,\n",
       "        0.15360171, 0.04026281, 0.07902883, 0.05553389, 0.0663721 ,\n",
       "        1.        , 0.14975565, 0.06267759, 0.02959486, 0.10700532,\n",
       "        0.12997628, 0.10445884, 0.1490291 , 0.21795718, 0.10049818],\n",
       "       [0.08886316, 0.06560045, 0.16639439, 0.06844857, 0.18575867,\n",
       "        0.24421006, 0.0565776 , 0.13905627, 0.04096923, 0.13878062,\n",
       "        0.14975565, 1.        , 0.16371589, 0.03111679, 0.11870893,\n",
       "        0.12054478, 0.19136586, 0.13048275, 0.10449382, 0.09912099],\n",
       "       [0.09790952, 0.03991225, 0.13980309, 0.08342027, 0.09663809,\n",
       "        0.03947498, 0.03869209, 0.05547343, 0.03362147, 0.16165113,\n",
       "        0.06267759, 0.16371589, 1.        , 0.01132259, 0.06429634,\n",
       "        0.15213511, 0.03390739, 0.14475752, 0.06727178, 0.04198391],\n",
       "       [0.01377351, 0.01840734, 0.01688671, 0.00415663, 0.03123419,\n",
       "        0.0286756 , 0.00833088, 0.01055213, 0.01047767, 0.00988792,\n",
       "        0.02959486, 0.03111679, 0.01132259, 1.        , 0.00993574,\n",
       "        0.02017029, 0.01769555, 0.01825815, 0.02115281, 0.02044329],\n",
       "       [0.05569793, 0.08719695, 0.11174272, 0.13447025, 0.07796679,\n",
       "        0.05566064, 0.05673902, 0.0308685 , 0.02531198, 0.07155247,\n",
       "        0.10700532, 0.11870893, 0.06429634, 0.00993574, 1.        ,\n",
       "        0.1442422 , 0.11653737, 0.19537383, 0.13550683, 0.06312942],\n",
       "       [0.05594039, 0.04253847, 0.114617  , 0.10714138, 0.11396049,\n",
       "        0.14719124, 0.04910496, 0.06984378, 0.02836183, 0.12142219,\n",
       "        0.12997628, 0.12054478, 0.15213511, 0.02017029, 0.1442422 ,\n",
       "        1.        , 0.06763164, 0.2892391 , 0.08795611, 0.07978526],\n",
       "       [0.05668458, 0.09155533, 0.10348716, 0.3145159 , 0.10426316,\n",
       "        0.05416834, 0.03248106, 0.08814768, 0.0211683 , 0.07517591,\n",
       "        0.10445884, 0.19136586, 0.03390739, 0.01769555, 0.11653737,\n",
       "        0.06763164, 1.        , 0.15502173, 0.14661263, 0.04818579],\n",
       "       [0.0141718 , 0.02813887, 0.11878197, 0.20333281, 0.08887378,\n",
       "        0.05074828, 0.06135595, 0.05174527, 0.18593124, 0.09638383,\n",
       "        0.1490291 , 0.13048275, 0.14475752, 0.01825815, 0.19537383,\n",
       "        0.2892391 , 0.15502173, 1.        , 0.13963753, 0.0489529 ],\n",
       "       [0.1326674 , 0.141213  , 0.63030687, 0.03389225, 0.1230615 ,\n",
       "        0.21030716, 0.02960082, 0.11436522, 0.02714132, 0.42798616,\n",
       "        0.21795718, 0.10449382, 0.06727178, 0.02115281, 0.13550683,\n",
       "        0.08795611, 0.14661263, 0.13963753, 1.        , 0.05702978],\n",
       "       [0.04167322, 0.05012403, 0.10534351, 0.02587133, 0.06720168,\n",
       "        0.07652328, 0.02865521, 0.11371301, 0.02593743, 0.05101628,\n",
       "        0.10049818, 0.09912099, 0.04198391, 0.02044329, 0.06312942,\n",
       "        0.07978526, 0.04818579, 0.0489529 , 0.05702978, 1.        ]])"
      ]
     },
     "execution_count": 14,
     "metadata": {},
     "output_type": "execute_result"
    }
   ],
   "source": [
    "bow_cosine"
   ]
  },
  {
   "cell_type": "markdown",
   "metadata": {},
   "source": [
    "4. Build a 20x20 matrix containing the cosine similarities of the songs to each other. Use TFIDF scores to determine these similarities. **5 pts.**"
   ]
  },
  {
   "cell_type": "code",
   "execution_count": 15,
   "metadata": {},
   "outputs": [],
   "source": [
    "from sklearn.feature_extraction.text import TfidfVectorizer\n",
    "\n",
    "tfidf_vectorizer = TfidfVectorizer()\n",
    "\n",
    "tfidf_matrix = tfidf_vectorizer.fit_transform(preprocessed_corpus)\n",
    "tfidf_matrix = tfidf_matrix.toarray()"
   ]
  },
  {
   "cell_type": "code",
   "execution_count": 16,
   "metadata": {},
   "outputs": [
    {
     "data": {
      "text/plain": [
       "array([[0.        , 0.        , 0.        , ..., 0.        , 0.        ,\n",
       "        0.        ],\n",
       "       [0.        , 0.        , 0.03765363, ..., 0.        , 0.        ,\n",
       "        0.45184353],\n",
       "       [0.        , 0.        , 0.        , ..., 0.        , 0.        ,\n",
       "        0.        ],\n",
       "       ...,\n",
       "       [0.04633976, 0.04633976, 0.        , ..., 0.        , 0.        ,\n",
       "        0.        ],\n",
       "       [0.        , 0.        , 0.        , ..., 0.        , 0.        ,\n",
       "        0.        ],\n",
       "       [0.        , 0.        , 0.        , ..., 0.        , 0.        ,\n",
       "        0.        ]])"
      ]
     },
     "execution_count": 16,
     "metadata": {},
     "output_type": "execute_result"
    }
   ],
   "source": [
    "tfidf_matrix"
   ]
  },
  {
   "cell_type": "markdown",
   "metadata": {},
   "source": [
    "**Create the cosine similarities matrix:**"
   ]
  },
  {
   "cell_type": "code",
   "execution_count": 17,
   "metadata": {},
   "outputs": [],
   "source": [
    "tfidf_cosine = np.zeros(shape=(20, 20))\n",
    "\n",
    "for row_idx, v1 in enumerate(tfidf_matrix):\n",
    "    for col_idx, v2 in enumerate(tfidf_matrix):\n",
    "        tfidf_cosine[row_idx][col_idx] = cosine(v1, v2)"
   ]
  },
  {
   "cell_type": "code",
   "execution_count": 18,
   "metadata": {},
   "outputs": [
    {
     "data": {
      "text/plain": [
       "array([[1.        , 0.01450072, 0.04932308, 0.00902477, 0.03750984,\n",
       "        0.02604039, 0.01212837, 0.00904005, 0.00317646, 0.02563837,\n",
       "        0.02307749, 0.0252234 , 0.04067251, 0.00300493, 0.01256437,\n",
       "        0.01368195, 0.0182394 , 0.00598671, 0.07707164, 0.00802605],\n",
       "       [0.01450072, 1.        , 0.03621547, 0.01949769, 0.01220764,\n",
       "        0.03015406, 0.03431758, 0.02711304, 0.00747983, 0.05088449,\n",
       "        0.03782539, 0.0167587 , 0.01096871, 0.0060274 , 0.02313031,\n",
       "        0.00941819, 0.03797174, 0.01272084, 0.06142446, 0.01471156],\n",
       "       [0.04932308, 0.03621547, 1.        , 0.01193872, 0.10316976,\n",
       "        0.16888398, 0.02863312, 0.14848764, 0.01436366, 0.21357361,\n",
       "        0.06157941, 0.08681611, 0.07262419, 0.00519815, 0.04943515,\n",
       "        0.06139604, 0.06154627, 0.093     , 0.49754274, 0.06957367],\n",
       "       [0.00902477, 0.01949769, 0.01193872, 1.        , 0.02686394,\n",
       "        0.02165426, 0.01113824, 0.00677547, 0.0079063 , 0.00757722,\n",
       "        0.02703766, 0.0338511 , 0.09229653, 0.00159991, 0.05795101,\n",
       "        0.07838477, 0.20398723, 0.13325519, 0.02696605, 0.01561541],\n",
       "       [0.03750984, 0.01220764, 0.10316976, 0.02686394, 1.        ,\n",
       "        0.09511693, 0.00446859, 0.03353526, 0.01000928, 0.02288997,\n",
       "        0.08486854, 0.06631604, 0.03418343, 0.00930796, 0.01753007,\n",
       "        0.05301042, 0.03631835, 0.04617962, 0.0743674 , 0.01707988],\n",
       "       [0.02604039, 0.03015406, 0.16888398, 0.02165426, 0.09511693,\n",
       "        1.        , 0.02006905, 0.05766965, 0.01916515, 0.10613984,\n",
       "        0.09538395, 0.1402527 , 0.01267586, 0.01305983, 0.02428058,\n",
       "        0.09006233, 0.04164451, 0.04220298, 0.16196463, 0.02871391],\n",
       "       [0.01212837, 0.03431758, 0.02863312, 0.01113824, 0.00446859,\n",
       "        0.02006905, 1.        , 0.00839178, 0.01951783, 0.00611693,\n",
       "        0.00731567, 0.01608995, 0.01086067, 0.0015241 , 0.01774913,\n",
       "        0.0151309 , 0.01089926, 0.02765432, 0.01141986, 0.00494266],\n",
       "       [0.00904005, 0.02711304, 0.14848764, 0.00677547, 0.03353526,\n",
       "        0.05766965, 0.00839178, 1.        , 0.00416094, 0.04168774,\n",
       "        0.04455497, 0.06211076, 0.02753836, 0.0022768 , 0.00586745,\n",
       "        0.03634428, 0.03380829, 0.03234631, 0.06162104, 0.06024361],\n",
       "       [0.00317646, 0.00747983, 0.01436366, 0.0079063 , 0.01000928,\n",
       "        0.01916515, 0.01951783, 0.00416094, 1.        , 0.00540734,\n",
       "        0.01894414, 0.00984527, 0.01041424, 0.00239405, 0.00730722,\n",
       "        0.00737438, 0.00504444, 0.07532368, 0.01048544, 0.00794561],\n",
       "       [0.02563837, 0.05088449, 0.21357361, 0.00757722, 0.02288997,\n",
       "        0.10613984, 0.00611693, 0.04168774, 0.00540734, 1.        ,\n",
       "        0.01957883, 0.06041692, 0.06934491, 0.00192831, 0.01890839,\n",
       "        0.04824067, 0.03731889, 0.05379354, 0.26800906, 0.01312747],\n",
       "       [0.02307749, 0.03782539, 0.06157941, 0.02703766, 0.08486854,\n",
       "        0.09538395, 0.00731567, 0.04455497, 0.01894414, 0.01957883,\n",
       "        1.        , 0.06061259, 0.02464923, 0.00911607, 0.03795185,\n",
       "        0.07151225, 0.04731282, 0.11365954, 0.14408242, 0.04441738],\n",
       "       [0.0252234 , 0.0167587 , 0.08681611, 0.0338511 , 0.06631604,\n",
       "        0.1402527 , 0.01608995, 0.06211076, 0.00984527, 0.06041692,\n",
       "        0.06061259, 1.        , 0.08733725, 0.00828922, 0.03634826,\n",
       "        0.04670183, 0.06854772, 0.08001726, 0.05844307, 0.03749292],\n",
       "       [0.04067251, 0.01096871, 0.07262419, 0.09229653, 0.03418343,\n",
       "        0.01267586, 0.01086067, 0.02753836, 0.01041424, 0.06934491,\n",
       "        0.02464923, 0.08733725, 1.        , 0.00294755, 0.02252915,\n",
       "        0.08102232, 0.01001054, 0.09816463, 0.04248425, 0.01190299],\n",
       "       [0.00300493, 0.0060274 , 0.00519815, 0.00159991, 0.00930796,\n",
       "        0.01305983, 0.0015241 , 0.0022768 , 0.00239405, 0.00192831,\n",
       "        0.00911607, 0.00828922, 0.00294755, 1.        , 0.00163591,\n",
       "        0.00491339, 0.00449289, 0.00855344, 0.01014079, 0.00925172],\n",
       "       [0.01256437, 0.02313031, 0.04943515, 0.05795101, 0.01753007,\n",
       "        0.02428058, 0.01774913, 0.00586745, 0.00730722, 0.01890839,\n",
       "        0.03795185, 0.03634826, 0.02252915, 0.00163591, 1.        ,\n",
       "        0.07946231, 0.05017098, 0.10621694, 0.06574319, 0.02313249],\n",
       "       [0.01368195, 0.00941819, 0.06139604, 0.07838477, 0.05301042,\n",
       "        0.09006233, 0.0151309 , 0.03634428, 0.00737438, 0.04824067,\n",
       "        0.07151225, 0.04670183, 0.08102232, 0.00491339, 0.07946231,\n",
       "        1.        , 0.02822434, 0.22826428, 0.05454716, 0.03203135],\n",
       "       [0.0182394 , 0.03797174, 0.06154627, 0.20398723, 0.03631835,\n",
       "        0.04164451, 0.01089926, 0.03380829, 0.00504444, 0.03731889,\n",
       "        0.04731282, 0.06854772, 0.01001054, 0.00449289, 0.05017098,\n",
       "        0.02822434, 1.        , 0.08640209, 0.12991372, 0.02125316],\n",
       "       [0.00598671, 0.01272084, 0.093     , 0.13325519, 0.04617962,\n",
       "        0.04220298, 0.02765432, 0.03234631, 0.07532368, 0.05379354,\n",
       "        0.11365954, 0.08001726, 0.09816463, 0.00855344, 0.10621694,\n",
       "        0.22826428, 0.08640209, 1.        , 0.10807693, 0.03084603],\n",
       "       [0.07707164, 0.06142446, 0.49754274, 0.02696605, 0.0743674 ,\n",
       "        0.16196463, 0.01141986, 0.06162104, 0.01048544, 0.26800906,\n",
       "        0.14408242, 0.05844307, 0.04248425, 0.01014079, 0.06574319,\n",
       "        0.05454716, 0.12991372, 0.10807693, 1.        , 0.02468886],\n",
       "       [0.00802605, 0.01471156, 0.06957367, 0.01561541, 0.01707988,\n",
       "        0.02871391, 0.00494266, 0.06024361, 0.00794561, 0.01312747,\n",
       "        0.04441738, 0.03749292, 0.01190299, 0.00925172, 0.02313249,\n",
       "        0.03203135, 0.02125316, 0.03084603, 0.02468886, 1.        ]])"
      ]
     },
     "execution_count": 18,
     "metadata": {},
     "output_type": "execute_result"
    }
   ],
   "source": [
    "tfidf_cosine"
   ]
  },
  {
   "cell_type": "markdown",
   "metadata": {},
   "source": [
    "5. Compare the similarities using BoW and TFIDF. Analyze the results and discuss any findings that interest you. You can use heatmaps or other plots to present your analysis. **3 pts**"
   ]
  },
  {
   "cell_type": "markdown",
   "metadata": {},
   "source": [
    "**Heatmap**"
   ]
  },
  {
   "cell_type": "code",
   "execution_count": 19,
   "metadata": {
    "scrolled": false
   },
   "outputs": [
    {
     "data": {
      "image/png": "[encoded data removed]",
      "text/plain": [
       "<Figure size 864x576 with 2 Axes>"
      ]
     },
     "metadata": {
      "needs_background": "light"
     },
     "output_type": "display_data"
    }
   ],
   "source": [
    "import matplotlib.pyplot as plt\n",
    "\n",
    "fig, ax = plt.subplots(1, 2, figsize=(12, 8))\n",
    "\n",
    "cmap = plt.cm.get_cmap('hot')\n",
    "cmap = cmap.reversed()\n",
    "ax[0].imshow(bow_cosine, interpolation=\"nearest\", cmap=cmap)\n",
    "ax[0].set_title(\"Bag-of-Words\")\n",
    "ax[1].imshow(tfidf_cosine, interpolation=\"nearest\", cmap=cmap)\n",
    "ax[1].set_title(\"TF-IDF\")\n",
    "plt.show()"
   ]
  },
  {
   "cell_type": "markdown",
   "metadata": {},
   "source": [
    "Guide Questions:\n",
    "\n",
    "*Can this be used to determine playlist quality?*"
   ]
  },
  {
   "cell_type": "markdown",
   "metadata": {},
   "source": [
    "* Yes, especially in that the quality of this playlist is particularly bad since the songs are 'distant' from one another. However, since our methods did not take word context into account (surrounding words or associated words), it is entirely possible that the songs are similar not strictly lexically but in theme."
   ]
  },
  {
   "cell_type": "markdown",
   "metadata": {},
   "source": [
    "*What does this say about the homogeneity of the playlist themes?*"
   ]
  },
  {
   "cell_type": "markdown",
   "metadata": {},
   "source": [
    "* The heatmap shows that, with a few exceptions, the songs in this playlist are not at all similar to each other. There is great variety in the lyrics."
   ]
  },
  {
   "cell_type": "markdown",
   "metadata": {},
   "source": [
    "*What does this say about how songs (in that playlist genre) are written?*"
   ]
  },
  {
   "cell_type": "markdown",
   "metadata": {},
   "source": [
    "* Songs are generally unique, blah blah blah"
   ]
  },
  {
   "cell_type": "markdown",
   "metadata": {},
   "source": [
    "6. Identify the top 5 most important words for each song using TFIDF. Discuss the relationship of these words to their respective songs and analyze if they can be used as passable summaries of the songs. **2 pts** \n",
    "\n",
    "Make sure to remove stopwords. No need to lemmatize or stem, but is very welcome."
   ]
  },
  {
   "cell_type": "code",
   "execution_count": 20,
   "metadata": {},
   "outputs": [
    {
     "data": {
      "text/html": [
       "<div>\n",
       "<style scoped>\n",
       "    .dataframe tbody tr th:only-of-type {\n",
       "        vertical-align: middle;\n",
       "    }\n",
       "\n",
       "    .dataframe tbody tr th {\n",
       "        vertical-align: top;\n",
       "    }\n",
       "\n",
       "    .dataframe thead th {\n",
       "        text-align: right;\n",
       "    }\n",
       "</style>\n",
       "<table border=\"1\" class=\"dataframe\">\n",
       "  <thead>\n",
       "    <tr style=\"text-align: right;\">\n",
       "      <th></th>\n",
       "      <th>Song</th>\n",
       "      <th>Top 5 Words</th>\n",
       "    </tr>\n",
       "  </thead>\n",
       "  <tbody>\n",
       "    <tr>\n",
       "      <th>0</th>\n",
       "      <td>Smells Like Teen Spirit</td>\n",
       "      <td>[entertain, how, denial, hello, low]</td>\n",
       "    </tr>\n",
       "    <tr>\n",
       "      <th>1</th>\n",
       "      <td>Zombie</td>\n",
       "      <td>[oh, ie, head, zombie, du]</td>\n",
       "    </tr>\n",
       "    <tr>\n",
       "      <th>2</th>\n",
       "      <td>Under the Bridge</td>\n",
       "      <td>[place, downtown, take, love, yeah]</td>\n",
       "    </tr>\n",
       "    <tr>\n",
       "      <th>3</th>\n",
       "      <td>Killing In The Name</td>\n",
       "      <td>[justify, fuck, ya, what, tell]</td>\n",
       "    </tr>\n",
       "    <tr>\n",
       "      <th>4</th>\n",
       "      <td>Wonderwall</td>\n",
       "      <td>[one, say, maybe, save, gonna]</td>\n",
       "    </tr>\n",
       "    <tr>\n",
       "      <th>5</th>\n",
       "      <td>Enter Sandman</td>\n",
       "      <td>[enter, exit, hand, never, land]</td>\n",
       "    </tr>\n",
       "    <tr>\n",
       "      <th>6</th>\n",
       "      <td>Come As You Are</td>\n",
       "      <td>[old, friend, gun, refrain, memoria]</td>\n",
       "    </tr>\n",
       "    <tr>\n",
       "      <th>7</th>\n",
       "      <td>Bitter Sweet Symphony</td>\n",
       "      <td>[violence, melody, change, ever, mould]</td>\n",
       "    </tr>\n",
       "    <tr>\n",
       "      <th>8</th>\n",
       "      <td>Black Hole Sun</td>\n",
       "      <td>[rain, sun, come, black, hole]</td>\n",
       "    </tr>\n",
       "    <tr>\n",
       "      <th>9</th>\n",
       "      <td>Song 2</td>\n",
       "      <td>[pin, metal, yeah, woohoo, easy]</td>\n",
       "    </tr>\n",
       "    <tr>\n",
       "      <th>10</th>\n",
       "      <td>Losing My Religion</td>\n",
       "      <td>[say, think, much, dream, try]</td>\n",
       "    </tr>\n",
       "    <tr>\n",
       "      <th>11</th>\n",
       "      <td>1979</td>\n",
       "      <td>[shake, dust, bone, even, see]</td>\n",
       "    </tr>\n",
       "    <tr>\n",
       "      <th>12</th>\n",
       "      <td>Plush</td>\n",
       "      <td>[feel, smell, dog, tomorrow, find]</td>\n",
       "    </tr>\n",
       "    <tr>\n",
       "      <th>13</th>\n",
       "      <td>All The Small Things</td>\n",
       "      <td>[night, go, na, home, carry]</td>\n",
       "    </tr>\n",
       "    <tr>\n",
       "      <th>14</th>\n",
       "      <td>Creep</td>\n",
       "      <td>[weirdo, fuckin, belong, run, special]</td>\n",
       "    </tr>\n",
       "    <tr>\n",
       "      <th>15</th>\n",
       "      <td>Loser</td>\n",
       "      <td>[power, respect, bitch, beeotch, get]</td>\n",
       "    </tr>\n",
       "    <tr>\n",
       "      <th>16</th>\n",
       "      <td>Don't Speak</td>\n",
       "      <td>[darling, tell, hurt, hush, speak]</td>\n",
       "    </tr>\n",
       "    <tr>\n",
       "      <th>17</th>\n",
       "      <td>When I Come Around</td>\n",
       "      <td>[when, girl, around, come, niggas]</td>\n",
       "    </tr>\n",
       "    <tr>\n",
       "      <th>18</th>\n",
       "      <td>Self Esteem</td>\n",
       "      <td>[say, wonder, yeah, la, oh]</td>\n",
       "    </tr>\n",
       "    <tr>\n",
       "      <th>19</th>\n",
       "      <td>High And Dry</td>\n",
       "      <td>[ever, thing, high, dry, leave]</td>\n",
       "    </tr>\n",
       "  </tbody>\n",
       "</table>\n",
       "</div>"
      ],
      "text/plain": [
       "                       Song                              Top 5 Words\n",
       "0   Smells Like Teen Spirit     [entertain, how, denial, hello, low]\n",
       "1                    Zombie               [oh, ie, head, zombie, du]\n",
       "2          Under the Bridge      [place, downtown, take, love, yeah]\n",
       "3       Killing In The Name          [justify, fuck, ya, what, tell]\n",
       "4                Wonderwall           [one, say, maybe, save, gonna]\n",
       "5             Enter Sandman         [enter, exit, hand, never, land]\n",
       "6           Come As You Are     [old, friend, gun, refrain, memoria]\n",
       "7     Bitter Sweet Symphony  [violence, melody, change, ever, mould]\n",
       "8            Black Hole Sun           [rain, sun, come, black, hole]\n",
       "9                    Song 2         [pin, metal, yeah, woohoo, easy]\n",
       "10       Losing My Religion           [say, think, much, dream, try]\n",
       "11                     1979           [shake, dust, bone, even, see]\n",
       "12                    Plush       [feel, smell, dog, tomorrow, find]\n",
       "13     All The Small Things             [night, go, na, home, carry]\n",
       "14                    Creep   [weirdo, fuckin, belong, run, special]\n",
       "15                    Loser    [power, respect, bitch, beeotch, get]\n",
       "16              Don't Speak       [darling, tell, hurt, hush, speak]\n",
       "17       When I Come Around       [when, girl, around, come, niggas]\n",
       "18              Self Esteem              [say, wonder, yeah, la, oh]\n",
       "19             High And Dry          [ever, thing, high, dry, leave]"
      ]
     },
     "execution_count": 20,
     "metadata": {},
     "output_type": "execute_result"
    }
   ],
   "source": [
    "word_list = [word for word, idx in sorted(list(tfidf_vectorizer.vocabulary_.items()), key=lambda x: x[1])]\n",
    "\n",
    "top_5_words = []\n",
    "for row in tfidf_matrix:\n",
    "    top_words_indices = np.argpartition(row, -5)[-5:] \n",
    "    top_5_words.append([word_list[i] for i in top_words_indices])\n",
    "\n",
    "df = pd.DataFrame()\n",
    "df['Song'] = song_titles\n",
    "df['Top 5 Words'] = top_5_words\n",
    "df"
   ]
  },
  {
   "cell_type": "markdown",
   "metadata": {},
   "source": [
    "### Bonus:\n",
    "Do a TFIDF analysis for a single artist's top 5 songs. Identify the top 10 most important words and discuss an analysis of these. **5 pts.**"
   ]
  },
  {
   "cell_type": "markdown",
   "metadata": {},
   "source": [
    "**Get the top 5 songs:**"
   ]
  },
  {
   "cell_type": "code",
   "execution_count": 22,
   "metadata": {},
   "outputs": [],
   "source": [
    "artist_uri = \"spotify:artist:6PfSUFtkMVoDkx4MQkzOi3\"\n",
    "results = sp.artist_top_tracks(artist_uri)"
   ]
  },
  {
   "cell_type": "code",
   "execution_count": 53,
   "metadata": {},
   "outputs": [
    {
     "data": {
      "text/plain": [
       "[('money machine', '100 gecs'),\n",
       " ('hand crushed by a mallet', '100 gecs'),\n",
       " ('stupid horse', '100 gecs'),\n",
       " ('ringtone', '100 gecs'),\n",
       " ('One Step Closer - 100 gecs Reanimation', 'Linkin Park')]"
      ]
     },
     "execution_count": 53,
     "metadata": {},
     "output_type": "execute_result"
    }
   ],
   "source": [
    "top_5_tracks = [(track['name'], track['artists'][0]['name']) for track in results['tracks']][:5]\n",
    "top_5_tracks"
   ]
  },
  {
   "cell_type": "markdown",
   "metadata": {},
   "source": [
    "**Get the lyrics:**"
   ]
  },
  {
   "cell_type": "code",
   "execution_count": 56,
   "metadata": {},
   "outputs": [
    {
     "name": "stdout",
     "output_type": "stream",
     "text": [
      "Searching for \"money machine\" by 100 gecs...\n",
      "Done.\n",
      "Searching for \"hand crushed by a mallet\" by 100 gecs...\n",
      "Done.\n",
      "Searching for \"stupid horse\" by 100 gecs...\n",
      "Done.\n",
      "Searching for \"ringtone\" by 100 gecs...\n",
      "Done.\n",
      "Searching for \"One Step Closer - 100 gecs Reanimation\" by Linkin Park...\n",
      "Done.\n"
     ]
    }
   ],
   "source": [
    "artist_top5_lyrics = {}\n",
    "for track, artist in top_5_tracks:\n",
    "    lyrics = genius.search_song(track, artist).lyrics\n",
    "    artist_top5_lyrics[track] = lyrics"
   ]
  },
  {
   "cell_type": "markdown",
   "metadata": {},
   "source": [
    "**Create the tf-idf matrix**"
   ]
  },
  {
   "cell_type": "code",
   "execution_count": 57,
   "metadata": {},
   "outputs": [],
   "source": [
    "song_titles, lyrics = zip(*artist_top5_lyrics.items())"
   ]
  },
  {
   "cell_type": "code",
   "execution_count": 58,
   "metadata": {},
   "outputs": [
    {
     "data": {
      "text/plain": [
       "array([[0.        , 0.        , 0.        , ..., 0.        , 0.        ,\n",
       "        0.17070784],\n",
       "       [0.        , 0.        , 0.        , ..., 0.05142952, 0.06374557,\n",
       "        0.04269115],\n",
       "       [0.        , 0.        , 0.        , ..., 0.        , 0.        ,\n",
       "        0.01855957],\n",
       "       [0.02506591, 0.02506591, 0.02506591, ..., 0.02022302, 0.        ,\n",
       "        0.        ],\n",
       "       [0.        , 0.        , 0.        , ..., 0.        , 0.        ,\n",
       "        0.        ]])"
      ]
     },
     "execution_count": 58,
     "metadata": {},
     "output_type": "execute_result"
    }
   ],
   "source": [
    "from sklearn.feature_extraction.text import TfidfVectorizer\n",
    "\n",
    "tfidf_vectorizer = TfidfVectorizer()\n",
    "\n",
    "preprocessed_lyrics = preprocess(lyrics)\n",
    "tfidf_matrix = tfidf_vectorizer.fit_transform(preprocessed_lyrics)\n",
    "tfidf_matrix = tfidf_matrix.toarray()\n",
    "tfidf_matrix"
   ]
  },
  {
   "cell_type": "markdown",
   "metadata": {},
   "source": [
    "**Get top 10 words**"
   ]
  },
  {
   "cell_type": "code",
   "execution_count": 59,
   "metadata": {},
   "outputs": [
    {
     "data": {
      "text/html": [
       "<div>\n",
       "<style scoped>\n",
       "    .dataframe tbody tr th:only-of-type {\n",
       "        vertical-align: middle;\n",
       "    }\n",
       "\n",
       "    .dataframe tbody tr th {\n",
       "        vertical-align: top;\n",
       "    }\n",
       "\n",
       "    .dataframe thead th {\n",
       "        text-align: right;\n",
       "    }\n",
       "</style>\n",
       "<table border=\"1\" class=\"dataframe\">\n",
       "  <thead>\n",
       "    <tr style=\"text-align: right;\">\n",
       "      <th></th>\n",
       "      <th>Song</th>\n",
       "      <th>Top 10 Words</th>\n",
       "    </tr>\n",
       "  </thead>\n",
       "  <tbody>\n",
       "    <tr>\n",
       "      <th>0</th>\n",
       "      <td>money machine</td>\n",
       "      <td>[yeah, oh, big, feel, like, boys, clean, come, machine, money]</td>\n",
       "    </tr>\n",
       "    <tr>\n",
       "      <th>1</th>\n",
       "      <td>hand crushed by a mallet</td>\n",
       "      <td>[want, make, fuck, copy, say, fun, go, think, inside, way]</td>\n",
       "    </tr>\n",
       "    <tr>\n",
       "      <th>2</th>\n",
       "      <td>stupid horse</td>\n",
       "      <td>[go, oh, account, fell, money, bank, lose, stupid, porsche, horse]</td>\n",
       "    </tr>\n",
       "    <tr>\n",
       "      <th>3</th>\n",
       "      <td>ringtone</td>\n",
       "      <td>[answer, sick, think, one, always, call, ringtone, boy, know, get]</td>\n",
       "    </tr>\n",
       "    <tr>\n",
       "      <th>4</th>\n",
       "      <td>One Step Closer - 100 gecs Reanimation</td>\n",
       "      <td>[everything, need, breathe, break, closer, shut, one, edge, step, say]</td>\n",
       "    </tr>\n",
       "  </tbody>\n",
       "</table>\n",
       "</div>"
      ],
      "text/plain": [
       "                                     Song  \\\n",
       "0                           money machine   \n",
       "1                hand crushed by a mallet   \n",
       "2                            stupid horse   \n",
       "3                                ringtone   \n",
       "4  One Step Closer - 100 gecs Reanimation   \n",
       "\n",
       "                                                             Top 10 Words  \n",
       "0          [yeah, oh, big, feel, like, boys, clean, come, machine, money]  \n",
       "1              [want, make, fuck, copy, say, fun, go, think, inside, way]  \n",
       "2      [go, oh, account, fell, money, bank, lose, stupid, porsche, horse]  \n",
       "3      [answer, sick, think, one, always, call, ringtone, boy, know, get]  \n",
       "4  [everything, need, breathe, break, closer, shut, one, edge, step, say]  "
      ]
     },
     "execution_count": 59,
     "metadata": {},
     "output_type": "execute_result"
    }
   ],
   "source": [
    "pd.set_option('display.max_colwidth', None)\n",
    "\n",
    "word_list = [word for word, idx in sorted(list(tfidf_vectorizer.vocabulary_.items()), key=lambda x: x[1])]\n",
    "\n",
    "top_10_words = []\n",
    "for row in tfidf_matrix:\n",
    "    top_words_indices = np.argpartition(row, -10)[-10:] \n",
    "    top_10_words.append([word_list[i] for i in top_words_indices])\n",
    "\n",
    "df = pd.DataFrame()\n",
    "df['Song'] = song_titles\n",
    "df['Top 10 Words'] = top_10_words\n",
    "\n",
    "df"
   ]
  },
  {
   "cell_type": "markdown",
   "metadata": {},
   "source": [
    "Deadline **March 17 11:59PM**. Submission link to be posted in Moodle. \n",
    "Submit a .zip file containing the notebook and a 'data/' directory containing the songs with name <SURNAME>_<ID NUMBER>.ipynb.\n",
    "Make sure to remove or obfuscate any API keys you include in the final submission.\n",
    "    \n",
    "Sample: **\"BAUTISTA_110464.zip\"**"
   ]
  }
 ],
 "metadata": {
  "kernelspec": {
   "display_name": "Python 3",
   "language": "python",
   "name": "python3"
  },
  "language_info": {
   "codemirror_mode": {
    "name": "ipython",
    "version": 3
   },
   "file_extension": ".py",
   "mimetype": "text/x-python",
   "name": "python",
   "nbconvert_exporter": "python",
   "pygments_lexer": "ipython3",
   "version": "3.8.6"
  }
 },
 "nbformat": 4,
 "nbformat_minor": 4
}
